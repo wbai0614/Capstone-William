{
 "cells": [
  {
   "cell_type": "code",
   "execution_count": 4,
   "id": "24462bfb",
   "metadata": {},
   "outputs": [
    {
     "name": "stdout",
     "output_type": "stream",
     "text": [
      "Dataset Shape: (8000, 18)\n",
      "\n",
      "First 5 rows:\n",
      "    sale_id customer_id product_id product_name     category  price  quantity  \\\n",
      "0  S000001   CUST01553       P004         Desk    Furniture  12000         2   \n",
      "1  S000002   CUST00161       P010    Projector  Electronics  45000         2   \n",
      "2  S000003   CUST00627       P010    Projector  Electronics  45000         4   \n",
      "3  S000004   CUST01291       P009      Monitor  Electronics  12000         1   \n",
      "4  S000005   CUST01456       P004         Desk    Furniture  12000         4   \n",
      "\n",
      "    sale_date  total_value  age  gender region         segment  churn  \\\n",
      "0  2020-01-07        24000   40  Female   West  Small Business      1   \n",
      "1  2023-11-10        90000   50  Female   West       Corporate      0   \n",
      "2  2022-07-04       180000   33    Male  South       Corporate      0   \n",
      "3  2023-10-18        12000   41    Male   West        Consumer      0   \n",
      "4  2023-09-13        48000   60  Female   West        Consumer      0   \n",
      "\n",
      "   tenure_months last_purchase_date                             feedback_text  \\\n",
      "0             37         2023-04-04  Terrible experience, will not buy again.   \n",
      "1             44         2023-03-02               Excellent customer service.   \n",
      "2             25         2023-11-04          Product quality could be better.   \n",
      "3             56         2023-08-18             Delivery was late, not happy.   \n",
      "4             52         2023-05-14             Delivery was late, not happy.   \n",
      "\n",
      "  sentiment  \n",
      "0  Negative  \n",
      "1  Positive  \n",
      "2   Neutral  \n",
      "3  Positive  \n",
      "4  Positive  \n",
      "\n",
      "Column names: ['sale_id', 'customer_id', 'product_id', 'product_name', 'category', 'price', 'quantity', 'sale_date', 'total_value', 'age', 'gender', 'region', 'segment', 'churn', 'tenure_months', 'last_purchase_date', 'feedback_text', 'sentiment']\n",
      "\n",
      "✅ Data saved: customer_sales_raw.csv (original) & customer_sales_scaled.csv (standardized)\n"
     ]
    }
   ],
   "source": [
    "# Step 1: Import libraries\n",
    "import pandas as pd\n",
    "import numpy as np\n",
    "from sklearn.preprocessing import StandardScaler\n",
    "\n",
    "# Step 2: Load the Customer Sales dataset\n",
    "df = pd.read_csv(\"customer_intelligence_dataset.csv\")\n",
    "\n",
    "# Step 3: Basic info\n",
    "print(\"Dataset Shape:\", df.shape)\n",
    "print(\"\\nFirst 5 rows:\\n\", df.head())\n",
    "print(\"\\nColumn names:\", df.columns.tolist())\n",
    "\n",
    "# Convert date columns\n",
    "df[\"sale_date\"] = pd.to_datetime(df[\"sale_date\"], errors=\"coerce\")\n",
    "df[\"last_purchase_date\"] = pd.to_datetime(df[\"last_purchase_date\"], errors=\"coerce\")\n",
    "\n",
    "# Step 4: Choose numeric features for scaling\n",
    "num_cols = [\"price\", \"quantity\", \"total_value\", \"age\", \"tenure_months\"]\n",
    "\n",
    "# Step 5: Standardize numeric features\n",
    "scaler = StandardScaler()\n",
    "scaled_features = scaler.fit_transform(df[num_cols])\n",
    "\n",
    "df_scaled = pd.DataFrame(scaled_features, columns=num_cols)\n",
    "\n",
    "# keep categorical + IDs\n",
    "for col in df.columns:\n",
    "    if col not in num_cols:\n",
    "        df_scaled[col] = df[col]\n",
    "\n",
    "# Step 6: Save processed datasets\n",
    "df.to_csv(\"customer_sales_raw.csv\", index=False)\n",
    "df_scaled.to_csv(\"customer_sales_scaled.csv\", index=False)\n",
    "\n",
    "print(\"\\n✅ Data saved: customer_sales_raw.csv (original) & customer_sales_scaled.csv (standardized)\")\n"
   ]
  },
  {
   "cell_type": "code",
   "execution_count": null,
   "id": "d2ee4fe7",
   "metadata": {},
   "outputs": [],
   "source": []
  }
 ],
 "metadata": {
  "kernelspec": {
   "display_name": "Python 3",
   "language": "python",
   "name": "python3"
  },
  "language_info": {
   "codemirror_mode": {
    "name": "ipython",
    "version": 3
   },
   "file_extension": ".py",
   "mimetype": "text/x-python",
   "name": "python",
   "nbconvert_exporter": "python",
   "pygments_lexer": "ipython3",
   "version": "3.13.5"
  }
 },
 "nbformat": 4,
 "nbformat_minor": 5
}
