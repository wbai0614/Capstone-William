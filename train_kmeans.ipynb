{
 "cells": [
  {
   "cell_type": "code",
   "execution_count": 1,
   "id": "4030bbff",
   "metadata": {},
   "outputs": [
    {
     "name": "stdout",
     "output_type": "stream",
     "text": [
      "Cluster assignments (first 10): [1, 2, 2, 1, 0, 0, 1, 2, 2, 1]\n",
      "\n",
      "Cluster sizes:\n",
      " cluster\n",
      "0    3266\n",
      "1    3324\n",
      "2    1410\n",
      "Name: count, dtype: int64\n",
      "\n",
      "Inertia (sum of squared distances): 23346.25844777483\n",
      "\n",
      "Cluster vs Churn:\n",
      " churn       0    1\n",
      "cluster           \n",
      "0        2468  798\n",
      "1        2513  811\n",
      "2        1034  376\n",
      "\n",
      "Cluster vs Segment:\n",
      " segment  Consumer  Corporate  Small Business\n",
      "cluster                                     \n",
      "0            1015       1172            1079\n",
      "1            1053       1226            1045\n",
      "2             447        519             444\n",
      "✅ KMeans model saved to models/customer_kmeans.pkl\n"
     ]
    }
   ],
   "source": [
    "# train_kmeans_customer.ipynb\n",
    "\n",
    "import os\n",
    "import pickle\n",
    "import pandas as pd\n",
    "from sklearn.cluster import KMeans\n",
    "\n",
    "# 1) Load standardized dataset prepared in eda_customer_sales.ipynb\n",
    "#    (expects 'customer_sales_scaled.csv' from the earlier step)\n",
    "df = pd.read_csv(\"customer_sales_scaled.csv\")\n",
    "\n",
    "# 2) Keep only numeric features for clustering (already standardized)\n",
    "#    Adjust if you added more numeric features.\n",
    "num_cols = [\"price\", \"quantity\", \"total_value\", \"age\", \"tenure_months\"]\n",
    "X = df[num_cols].copy()\n",
    "\n",
    "# Safety: drop rows with any missing numeric values\n",
    "X = X.dropna()\n",
    "\n",
    "# 3) Train KMeans\n",
    "kmeans_model = KMeans(n_clusters=3, n_init=10, random_state=42)\n",
    "kmeans_model.fit(X)\n",
    "\n",
    "# 4) (Optional) Assign clusters for inspection\n",
    "df_clusters = df.loc[X.index].copy()\n",
    "df_clusters[\"cluster\"] = kmeans_model.labels_\n",
    "print(\"Cluster assignments (first 10):\", df_clusters[\"cluster\"].head(10).tolist())\n",
    "print(\"\\nCluster sizes:\\n\", df_clusters[\"cluster\"].value_counts().sort_index())\n",
    "print(\"\\nInertia (sum of squared distances):\", kmeans_model.inertia_)\n",
    "\n",
    "# Optional diagnostics if you have these columns:\n",
    "if \"churn\" in df_clusters.columns:\n",
    "    print(\"\\nCluster vs Churn:\\n\", pd.crosstab(df_clusters[\"cluster\"], df_clusters[\"churn\"]))\n",
    "if \"segment\" in df_clusters.columns:\n",
    "    print(\"\\nCluster vs Segment:\\n\", pd.crosstab(df_clusters[\"cluster\"], df_clusters[\"segment\"]))\n",
    "\n",
    "# 5) Save model\n",
    "os.makedirs(\"models\", exist_ok=True)\n",
    "with open(\"models/customer_kmeans.pkl\", \"wb\") as f:\n",
    "    pickle.dump(kmeans_model, f)\n",
    "\n",
    "print(\"✅ KMeans model saved to models/customer_kmeans.pkl\")\n"
   ]
  },
  {
   "cell_type": "code",
   "execution_count": null,
   "id": "cbac8499",
   "metadata": {},
   "outputs": [],
   "source": []
  }
 ],
 "metadata": {
  "kernelspec": {
   "display_name": "Python 3",
   "language": "python",
   "name": "python3"
  },
  "language_info": {
   "codemirror_mode": {
    "name": "ipython",
    "version": 3
   },
   "file_extension": ".py",
   "mimetype": "text/x-python",
   "name": "python",
   "nbconvert_exporter": "python",
   "pygments_lexer": "ipython3",
   "version": "3.13.5"
  }
 },
 "nbformat": 4,
 "nbformat_minor": 5
}
