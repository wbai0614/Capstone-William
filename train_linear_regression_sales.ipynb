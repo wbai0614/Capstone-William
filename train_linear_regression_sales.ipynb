{
 "cells": [
  {
   "cell_type": "code",
   "execution_count": 1,
   "id": "39285e96",
   "metadata": {},
   "outputs": [
    {
     "name": "stdout",
     "output_type": "stream",
     "text": [
      "RMSE: 29217.93\n",
      "R²: 0.848\n",
      "✅ Linear Regression model saved to models/sales_linear_reg.pkl\n"
     ]
    }
   ],
   "source": [
    "import os\n",
    "import pickle\n",
    "import pandas as pd\n",
    "import numpy as np\n",
    "\n",
    "from sklearn.model_selection import train_test_split\n",
    "from sklearn.compose import ColumnTransformer\n",
    "from sklearn.pipeline import Pipeline\n",
    "from sklearn.impute import SimpleImputer\n",
    "from sklearn.preprocessing import OneHotEncoder, StandardScaler\n",
    "from sklearn.linear_model import LinearRegression\n",
    "from sklearn.metrics import mean_squared_error, r2_score\n",
    "\n",
    "# 1) Load raw dataset\n",
    "df = pd.read_csv(\"customer_sales_raw.csv\")\n",
    "\n",
    "# 2) Target = total_value (sales revenue)\n",
    "y = df[\"total_value\"]\n",
    "\n",
    "# Features (drop ID/date/free text fields)\n",
    "num_cols = [\"price\", \"quantity\", \"age\", \"tenure_months\"]\n",
    "cat_cols = [\"gender\", \"region\", \"segment\", \"product_name\", \"category\", \"sentiment\"]\n",
    "\n",
    "X = df[num_cols + cat_cols].copy()\n",
    "\n",
    "# 3) Train/test split\n",
    "X_train, X_test, y_train, y_test = train_test_split(\n",
    "    X, y, test_size=0.2, random_state=42\n",
    ")\n",
    "\n",
    "# 4) Preprocessing\n",
    "numeric_tf = Pipeline([\n",
    "    (\"imputer\", SimpleImputer(strategy=\"median\")),\n",
    "    (\"scaler\", StandardScaler())\n",
    "])\n",
    "categorical_tf = Pipeline([\n",
    "    (\"imputer\", SimpleImputer(strategy=\"most_frequent\")),\n",
    "    (\"onehot\", OneHotEncoder(handle_unknown=\"ignore\"))\n",
    "])\n",
    "preprocess = ColumnTransformer([\n",
    "    (\"num\", numeric_tf, num_cols),\n",
    "    (\"cat\", categorical_tf, cat_cols),\n",
    "])\n",
    "\n",
    "# 5) Model\n",
    "linreg = LinearRegression()\n",
    "\n",
    "pipe = Pipeline([\n",
    "    (\"prep\", preprocess),\n",
    "    (\"model\", linreg)\n",
    "])\n",
    "\n",
    "# 6) Train\n",
    "pipe.fit(X_train, y_train)\n",
    "\n",
    "# 7) Evaluate\n",
    "y_pred = pipe.predict(X_test)\n",
    "rmse = np.sqrt(mean_squared_error(y_test, y_pred))\n",
    "r2 = r2_score(y_test, y_pred)\n",
    "\n",
    "print(f\"RMSE: {rmse:.2f}\")\n",
    "print(f\"R²: {r2:.3f}\")\n",
    "\n",
    "# 8) Save model\n",
    "os.makedirs(\"models\", exist_ok=True)\n",
    "out_path = \"models/sales_linear_reg.pkl\"\n",
    "with open(out_path, \"wb\") as f:\n",
    "    pickle.dump(pipe, f)\n",
    "\n",
    "print(f\"✅ Linear Regression model saved to {out_path}\")\n"
   ]
  },
  {
   "cell_type": "code",
   "execution_count": null,
   "id": "4401dbdc",
   "metadata": {},
   "outputs": [],
   "source": []
  }
 ],
 "metadata": {
  "kernelspec": {
   "display_name": "Python 3",
   "language": "python",
   "name": "python3"
  },
  "language_info": {
   "codemirror_mode": {
    "name": "ipython",
    "version": 3
   },
   "file_extension": ".py",
   "mimetype": "text/x-python",
   "name": "python",
   "nbconvert_exporter": "python",
   "pygments_lexer": "ipython3",
   "version": "3.13.5"
  }
 },
 "nbformat": 4,
 "nbformat_minor": 5
}
