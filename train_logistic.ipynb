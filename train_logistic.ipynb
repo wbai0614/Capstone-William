{
 "cells": [
  {
   "cell_type": "code",
   "execution_count": 1,
   "id": "54426986",
   "metadata": {},
   "outputs": [
    {
     "name": "stdout",
     "output_type": "stream",
     "text": [
      "Logistic Regression Accuracy (Churn): 0.53\n",
      "✅ Logistic Regression model saved to models/customer_churn_logreg.pkl\n"
     ]
    }
   ],
   "source": [
    "# train_logistic_customer.ipynb\n",
    "\n",
    "import os\n",
    "import pickle\n",
    "import pandas as pd\n",
    "\n",
    "from sklearn.model_selection import train_test_split\n",
    "from sklearn.pipeline import Pipeline\n",
    "from sklearn.compose import ColumnTransformer\n",
    "from sklearn.impute import SimpleImputer\n",
    "from sklearn.preprocessing import OneHotEncoder, StandardScaler\n",
    "from sklearn.linear_model import LogisticRegression\n",
    "from sklearn.metrics import accuracy_score\n",
    "\n",
    "# 1) Load dataset prepared in eda_customer_sales.ipynb\n",
    "#    (expects files saved as shown earlier)\n",
    "df = pd.read_csv(\"customer_sales_raw.csv\")\n",
    "\n",
    "# 2) Features (X) and target (y)\n",
    "# Target must be 0/1\n",
    "y = df[\"churn\"]\n",
    "\n",
    "# Select feature columns (exclude obvious identifiers and text-only fields)\n",
    "num_cols = [\"price\", \"quantity\", \"total_value\", \"age\", \"tenure_months\"]\n",
    "cat_cols = [\"gender\", \"region\", \"segment\", \"product_name\", \"category\", \"sentiment\"]\n",
    "\n",
    "X = df[num_cols + cat_cols].copy()\n",
    "\n",
    "# 3) Train / Test split\n",
    "X_train, X_test, y_train, y_test = train_test_split(\n",
    "    X, y, test_size=0.2, random_state=42, stratify=y\n",
    ")\n",
    "\n",
    "# 4) Preprocessing + Model (pipeline)\n",
    "numeric_transformer = Pipeline(steps=[\n",
    "    (\"imputer\", SimpleImputer(strategy=\"median\")),\n",
    "    (\"scaler\", StandardScaler())\n",
    "])\n",
    "\n",
    "categorical_transformer = Pipeline(steps=[\n",
    "    (\"imputer\", SimpleImputer(strategy=\"most_frequent\")),\n",
    "    (\"onehot\", OneHotEncoder(handle_unknown=\"ignore\"))\n",
    "])\n",
    "\n",
    "preprocess = ColumnTransformer(\n",
    "    transformers=[\n",
    "        (\"num\", numeric_transformer, num_cols),\n",
    "        (\"cat\", categorical_transformer, cat_cols),\n",
    "    ]\n",
    ")\n",
    "\n",
    "log_model = Pipeline(steps=[\n",
    "    (\"preprocess\", preprocess),\n",
    "    (\"clf\", LogisticRegression(max_iter=1000, class_weight=\"balanced\"))\n",
    "])\n",
    "\n",
    "# 5) Train\n",
    "log_model.fit(X_train, y_train)\n",
    "\n",
    "# 6) Evaluate\n",
    "y_pred = log_model.predict(X_test)\n",
    "accuracy = accuracy_score(y_test, y_pred)\n",
    "print(f\"Logistic Regression Accuracy (Churn): {accuracy:.2f}\")\n",
    "\n",
    "# 7) Save model\n",
    "os.makedirs(\"models\", exist_ok=True)\n",
    "with open(\"models/customer_churn_logreg.pkl\", \"wb\") as f:\n",
    "    pickle.dump(log_model, f)\n",
    "\n",
    "print(\"✅ Logistic Regression model saved to models/customer_churn_logreg.pkl\")\n"
   ]
  },
  {
   "cell_type": "code",
   "execution_count": null,
   "id": "64b79e83",
   "metadata": {},
   "outputs": [],
   "source": []
  }
 ],
 "metadata": {
  "kernelspec": {
   "display_name": "Python 3",
   "language": "python",
   "name": "python3"
  },
  "language_info": {
   "codemirror_mode": {
    "name": "ipython",
    "version": 3
   },
   "file_extension": ".py",
   "mimetype": "text/x-python",
   "name": "python",
   "nbconvert_exporter": "python",
   "pygments_lexer": "ipython3",
   "version": "3.13.5"
  }
 },
 "nbformat": 4,
 "nbformat_minor": 5
}
